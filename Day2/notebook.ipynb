{
 "cells": [
  {
   "cell_type": "markdown",
   "metadata": {},
   "source": [
    "--- Day 2: Red-Nosed Reports ---\n",
    "\n",
    "Fortunately, the first location The Historians want to search isn't a long walk from the Chief Historian's office.\n",
    "\n",
    "While the Red-Nosed Reindeer nuclear fusion/fission plant appears to contain no sign of the Chief Historian, the engineers there run up to you as soon as they see you. Apparently, they still talk about the time Rudolph was saved through molecular synthesis from a single electron.\n",
    "\n",
    "They're quick to add that - since you're already here - they'd really appreciate your help analyzing some unusual data from the Red-Nosed reactor. You turn to check if The Historians are waiting for you, but they seem to have already divided into groups that are currently searching every corner of the facility. You offer to help with the unusual data.\n",
    "\n",
    "The unusual data (your puzzle input) consists of many reports, one report per line. Each report is a list of numbers called levels that are separated by spaces. For example:\n",
    "\n",
    "7 6 4 2 1\n",
    "1 2 7 8 9\n",
    "9 7 6 2 1\n",
    "1 3 2 4 5\n",
    "8 6 4 4 1\n",
    "1 3 6 7 9\n",
    "\n",
    "This example data contains six reports each containing five levels.\n",
    "\n",
    "The engineers are trying to figure out which reports are safe. The Red-Nosed reactor safety systems can only tolerate levels that are either gradually increasing or gradually decreasing. So, a report only counts as safe if both of the following are true:\n",
    "\n",
    "    The levels are either all increasing or all decreasing.\n",
    "    Any two adjacent levels differ by at least one and at most three.\n",
    "\n",
    "In the example above, the reports can be found safe or unsafe by checking those rules:\n",
    "\n",
    "    7 6 4 2 1: Safe because the levels are all decreasing by 1 or 2.\n",
    "    1 2 7 8 9: Unsafe because 2 7 is an increase of 5.\n",
    "    9 7 6 2 1: Unsafe because 6 2 is a decrease of 4.\n",
    "    1 3 2 4 5: Unsafe because 1 3 is increasing but 3 2 is decreasing.\n",
    "    8 6 4 4 1: Unsafe because 4 4 is neither an increase or a decrease.\n",
    "    1 3 6 7 9: Safe because the levels are all increasing by 1, 2, or 3.\n",
    "\n",
    "So, in this example, 2 reports are safe.\n",
    "\n",
    "Analyze the unusual data from the engineers. How many reports are safe?\n"
   ]
  },
  {
   "cell_type": "code",
   "execution_count": 1,
   "metadata": {},
   "outputs": [],
   "source": [
    "import polars as pl"
   ]
  },
  {
   "cell_type": "code",
   "execution_count": 2,
   "metadata": {},
   "outputs": [
    {
     "name": "stdout",
     "output_type": "stream",
     "text": [
      "[[71, 73, 74, 76, 78, 80, 77], [78, 81, 84, 87, 87], [37, 40, 43, 46, 50], [12, 13, 15, 17, 18, 19, 21, 27], [4, 5, 2, 4, 5, 6]]\n"
     ]
    }
   ],
   "source": [
    "with open(\"input.csv\", \"r\") as f:\n",
    "    data = [[int(value) for value in line.split()] for line in f]\n",
    "print(data[0:5])"
   ]
  },
  {
   "cell_type": "code",
   "execution_count": 3,
   "metadata": {},
   "outputs": [],
   "source": [
    "def is_safe(values):\n",
    "    decreasing = values[0] > values[1]\n",
    "    prev = None\n",
    "    for i, val in enumerate(values):\n",
    "        if prev == None:\n",
    "            prev = val\n",
    "            continue\n",
    "        if (decreasing and prev > val) or (not decreasing and prev < val):\n",
    "            if not (abs(prev-val) <= 3):\n",
    "                #print(\"Caught on diff at\", val)\n",
    "                return False\n",
    "        else:\n",
    "            #print(\"Caught on not decreasing at\", val, decreasing)\n",
    "            return False\n",
    "        prev = val\n",
    "    return True"
   ]
  },
  {
   "cell_type": "code",
   "execution_count": 4,
   "metadata": {},
   "outputs": [
    {
     "name": "stdout",
     "output_type": "stream",
     "text": [
      "279\n"
     ]
    }
   ],
   "source": [
    "safe = 0\n",
    "for values in data:\n",
    "    safe+=is_safe(values)\n",
    "print(safe)"
   ]
  },
  {
   "cell_type": "markdown",
   "metadata": {},
   "source": [
    "The engineers are surprised by the low number of safe reports until they realize they forgot to tell you about the Problem Dampener.\n",
    "\n",
    "The Problem Dampener is a reactor-mounted module that lets the reactor safety systems tolerate a single bad level in what would otherwise be a safe report. It's like the bad level never happened!\n",
    "\n",
    "Now, the same rules apply as before, except if removing a single level from an unsafe report would make it safe, the report instead counts as safe.\n",
    "\n",
    "More of the above example's reports are now safe:\n",
    "\n",
    "    7 6 4 2 1: Safe without removing any level.\n",
    "    1 2 7 8 9: Unsafe regardless of which level is removed.\n",
    "    9 7 6 2 1: Unsafe regardless of which level is removed.\n",
    "    1 3 2 4 5: Safe by removing the second level, 3.\n",
    "    8 6 4 4 1: Safe by removing the third level, 4.\n",
    "    1 3 6 7 9: Safe without removing any level.\n",
    "\n",
    "Thanks to the Problem Dampener, 4 reports are actually safe!\n",
    "\n",
    "Update your analysis by handling situations where the Problem Dampener can remove a single level from unsafe reports. How many reports are now safe?"
   ]
  },
  {
   "cell_type": "code",
   "execution_count": 5,
   "metadata": {},
   "outputs": [],
   "source": [
    "def is_safe_dampener(values):\n",
    "    if is_safe(values):\n",
    "        return True\n",
    "        \n",
    "    for i in range(len(values)):\n",
    "        test_values = values[:i] + values[i+1:]\n",
    "        if is_safe(test_values):\n",
    "            return True\n",
    "            \n",
    "    return False"
   ]
  },
  {
   "cell_type": "code",
   "execution_count": 6,
   "metadata": {},
   "outputs": [
    {
     "name": "stdout",
     "output_type": "stream",
     "text": [
      "343\n"
     ]
    }
   ],
   "source": [
    "safe = 0\n",
    "for values in data:\n",
    "    safe+=is_safe_dampener(values)\n",
    "print(safe)"
   ]
  }
 ],
 "metadata": {
  "kernelspec": {
   "display_name": "base",
   "language": "python",
   "name": "python3"
  },
  "language_info": {
   "codemirror_mode": {
    "name": "ipython",
    "version": 3
   },
   "file_extension": ".py",
   "mimetype": "text/x-python",
   "name": "python",
   "nbconvert_exporter": "python",
   "pygments_lexer": "ipython3",
   "version": "3.12.3"
  }
 },
 "nbformat": 4,
 "nbformat_minor": 2
}
